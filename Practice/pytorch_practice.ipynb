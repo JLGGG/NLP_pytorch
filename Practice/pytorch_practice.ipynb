{
 "cells": [
  {
   "cell_type": "code",
   "execution_count": 1,
   "source": [
    "import torch\r\n",
    "\r\n",
    "USE_CUDA = torch.cuda.is_available()\r\n",
    "print(USE_CUDA)\r\n",
    "\r\n",
    "device = torch.device('cuda:0' if USE_CUDA else 'cpu')\r\n",
    "print('Learning device:',device)"
   ],
   "outputs": [
    {
     "output_type": "stream",
     "name": "stdout",
     "text": [
      "True\n",
      "Learning device: cuda:0\n"
     ]
    }
   ],
   "metadata": {}
  },
  {
   "cell_type": "code",
   "execution_count": 2,
   "source": [
    "x = torch.rand(3, 3).to(device) # 'to' command specifies to use GPU. \r\n",
    "x"
   ],
   "outputs": [
    {
     "output_type": "execute_result",
     "data": {
      "text/plain": [
       "tensor([[0.6973, 0.0277, 0.9953],\n",
       "        [0.8016, 0.0460, 0.9496],\n",
       "        [0.2498, 0.0091, 0.1115]], device='cuda:0')"
      ]
     },
     "metadata": {},
     "execution_count": 2
    }
   ],
   "metadata": {}
  },
  {
   "cell_type": "code",
   "execution_count": 3,
   "source": [
    "a = torch.rand(3, 3)\r\n",
    "a.unsqueeze(0) # Add 1 dimension to 0. At this point, row will expand [1, 3, 3] view.\r\n",
    "# a\r\n"
   ],
   "outputs": [
    {
     "output_type": "execute_result",
     "data": {
      "text/plain": [
       "tensor([[[0.3901, 0.5957, 0.7981],\n",
       "         [0.8502, 0.8054, 0.5692],\n",
       "         [0.3960, 0.5578, 0.9703]]])"
      ]
     },
     "metadata": {},
     "execution_count": 3
    }
   ],
   "metadata": {}
  },
  {
   "cell_type": "code",
   "execution_count": 4,
   "source": [
    "a.squeeze(0) # Remove 1 dimension in 0 position.\r\n",
    "a"
   ],
   "outputs": [
    {
     "output_type": "execute_result",
     "data": {
      "text/plain": [
       "tensor([[0.3901, 0.5957, 0.7981],\n",
       "        [0.8502, 0.8054, 0.5692],\n",
       "        [0.3960, 0.5578, 0.9703]])"
      ]
     },
     "metadata": {},
     "execution_count": 4
    }
   ],
   "metadata": {}
  },
  {
   "cell_type": "code",
   "execution_count": 5,
   "source": [
    "a = torch.Tensor([1,1,1,0,1])\r\n",
    "torch.nonzero(a, as_tuple=True) # Extract indexes of nonzero."
   ],
   "outputs": [
    {
     "output_type": "execute_result",
     "data": {
      "text/plain": [
       "(tensor([0, 1, 2, 4]),)"
      ]
     },
     "metadata": {},
     "execution_count": 5
    }
   ],
   "metadata": {}
  },
  {
   "cell_type": "code",
   "execution_count": 6,
   "source": [
    "a = torch.rand(3,1)\r\n",
    "a.expand(-1,4) # Expand dimesion from [3,1] to [3,4]. -1 means original value which that positioned.\r\n",
    "#a"
   ],
   "outputs": [
    {
     "output_type": "execute_result",
     "data": {
      "text/plain": [
       "tensor([[0.8792, 0.8792, 0.8792, 0.8792],\n",
       "        [0.2848, 0.2848, 0.2848, 0.2848],\n",
       "        [0.6613, 0.6613, 0.6613, 0.6613]])"
      ]
     },
     "metadata": {},
     "execution_count": 6
    }
   ],
   "metadata": {}
  },
  {
   "cell_type": "code",
   "execution_count": 7,
   "source": [
    "a = torch.rand(3, 4, 5)\r\n",
    "b = torch.rand(5, 4)\r\n",
    "torch.bmm(a, b.unsqueeze(0).expand(a.size(0), *b.size())) # [1, 5, 4]: after unsqueeze, [3, 5, 4]: after expand. "
   ],
   "outputs": [
    {
     "output_type": "execute_result",
     "data": {
      "text/plain": [
       "tensor([[[1.5381, 1.2186, 1.6590, 1.4749],\n",
       "         [0.7487, 1.0538, 0.8610, 0.6265],\n",
       "         [2.1759, 1.8604, 2.1462, 1.9033],\n",
       "         [1.4718, 1.2910, 1.5501, 1.3097]],\n",
       "\n",
       "        [[1.2881, 0.8331, 1.1940, 0.8739],\n",
       "         [1.2272, 1.2528, 1.4128, 1.0805],\n",
       "         [0.3622, 0.9338, 0.7167, 0.3830],\n",
       "         [0.6900, 0.3340, 0.5654, 0.7627]],\n",
       "\n",
       "        [[1.2394, 1.2748, 1.2783, 1.1851],\n",
       "         [1.7546, 0.8579, 1.4234, 1.4415],\n",
       "         [2.1229, 1.2881, 1.8741, 1.9022],\n",
       "         [1.8442, 1.4590, 1.8377, 1.6005]]])"
      ]
     },
     "metadata": {},
     "execution_count": 7
    }
   ],
   "metadata": {}
  },
  {
   "cell_type": "code",
   "execution_count": null,
   "source": [],
   "outputs": [],
   "metadata": {}
  }
 ],
 "metadata": {
  "orig_nbformat": 4,
  "language_info": {
   "name": "python",
   "version": "3.8.10",
   "mimetype": "text/x-python",
   "codemirror_mode": {
    "name": "ipython",
    "version": 3
   },
   "pygments_lexer": "ipython3",
   "nbconvert_exporter": "python",
   "file_extension": ".py"
  },
  "kernelspec": {
   "name": "python3",
   "display_name": "Python 3.8.10 64-bit ('bert': conda)"
  },
  "interpreter": {
   "hash": "40b9cf565d070ee13d37836166faa1e65075ac740510169fa1bf4f89f6b88bdd"
  }
 },
 "nbformat": 4,
 "nbformat_minor": 2
}